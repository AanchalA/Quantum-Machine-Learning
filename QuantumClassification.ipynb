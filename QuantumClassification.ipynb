{
  "nbformat": 4,
  "nbformat_minor": 0,
  "metadata": {
    "colab": {
      "provenance": [],
      "authorship_tag": "ABX9TyO0RYAJj69U9qH3Zdmldrrn",
      "include_colab_link": true
    },
    "kernelspec": {
      "name": "python3",
      "display_name": "Python 3"
    }
  },
  "cells": [
    {
      "cell_type": "markdown",
      "metadata": {
        "id": "view-in-github",
        "colab_type": "text"
      },
      "source": [
        "<a href=\"https://colab.research.google.com/github/AanchalA/Quantum-Machine-Learning/blob/main/QuantumClassification.ipynb\" target=\"_parent\"><img src=\"https://colab.research.google.com/assets/colab-badge.svg\" alt=\"Open In Colab\"/></a>"
      ]
    },
    {
      "cell_type": "markdown",
      "metadata": {
        "id": "qzMQMzfrvAMN"
      },
      "source": [
        "[Quantum Machine Learning, Sairaj Raval](https://www.youtube.com/watch?v=Zt8OnwXOGjI&ab_channel=SirajRaval)\n",
        "\n",
        "Reference Links:\n",
        "\n",
        "*   [RSA Algorithm in Cryptography: The algorithm that BitCoin uses for generating public and private key pairs.](https://www.geeksforgeeks.org/rsa-algorithm-cryptography/)\n",
        "\n",
        "*   [Quantum Circutis](https://medium.com/@adubey40/quantum-circuit-d53b5485ef91)\n",
        "\n",
        "*   [** Learn Quantum Computation using IBM's Qiskit](https://qiskit.org/textbook/what-is-quantum.html)\n",
        "\n",
        "*   [** Quantum Gates: CNOT Gate](https://towardsdatascience.com/towards-einsteins-spooky-action-at-a-distance-c32ca0148f8f)\n",
        "\n",
        "\n",
        "GITHUB REPOS:\n",
        "*   [Quantum Computing](https://github.com/llSourcell/quantum_computing)\n",
        "*   [QML Jupyter Notebook](https://github.com/llSourcell/quantum_machine_learning_LIVE/blob/master/Demo.ipynb)\n",
        "*   [Quantum Machine Learning Theory](https://github.com/llSourcell/quantum_machine_learning)\n",
        "*   [Quantum Neural Networks](https://github.com/llSourcell/quantum-neural-networks)\n",
        "\n",
        "VIDEOS:\n",
        "*   [Quantum Machine Learning](https://www.youtube.com/watch?v=Lbndu5EIWvI&t=714s&ab_channel=%E6%85%B6%E6%87%89%E7%BE%A9%E5%A1%BEKeioUniversity)\n",
        "\n",
        "*   [Video: What is Shor's factoring algorithm?](https://www.youtube.com/watch?v=hOlOY7NyMfs)\n",
        "\n",
        "*   [Video: Quantum Circutis](https://www.youtube.com/watch?v=_p7i2v21Ys8)"
      ]
    },
    {
      "cell_type": "markdown",
      "metadata": {
        "id": "2ex0Chc7cfNo"
      },
      "source": [
        "# Prime Factorization"
      ]
    },
    {
      "cell_type": "markdown",
      "metadata": {
        "id": "FnrX9JTvd7uj"
      },
      "source": [
        "## Algorithm 1: The Sieve of Eratosthenes Algorithm\n",
        "[Sieve of Eratosthenes Algorithm](https://www.geeksforgeeks.org/sieve-of-eratosthenes/)"
      ]
    },
    {
      "cell_type": "markdown",
      "metadata": {
        "id": "8tYqclNGfJZ2"
      },
      "source": [
        "\n",
        "1. Create a list of consecutive integers from 2 to n: (2, 3, 4, …, n).\n",
        "2. Initially, let p equal 2, the first prime number.\n",
        "3. Starting from p2, count up in increments of p and mark each of these numbers greater than or equal to p2 itself in the list. These numbers will be p(p+1), p(p+2), p(p+3), etc..\n",
        "4. Find the first number greater than p in the list that is not marked. If there was no such number, stop. Otherwise, let p now equal this number (which is the next prime), and repeat from step 3.\n",
        "\n"
      ]
    },
    {
      "cell_type": "code",
      "metadata": {
        "id": "TN0njC7BcZ46"
      },
      "source": [
        "import sys\n",
        "\n",
        "def factorizer(n): #'n' - number we want to find all the prime factors of\n",
        "    v = []\n",
        "    n = int(n)\n",
        "    out = '' # Empty char array. Will be filled with all the prime factors\n",
        "\n",
        "    for i in range(1000): # 1000 - arbitrary number\n",
        "        v.append(1) # Initialize the 1000 numbers as empty numbers\n",
        "\n",
        "    for j in range(2, n): # Creating a list of all the multiples of 2 below 'n'\n",
        "        if v[j]:    # here, j will increment in factors of 2\n",
        "            k = 2   # Initially prime number 'k' = 2\n",
        "            while k * j <= n:\n",
        "                v[k * j] = 0 # Setting 'off' all the indexes in v that are multiples of 2\n",
        "                k += 1\n",
        "\n",
        "    for i in range(2, n):\n",
        "        if v[i]:\n",
        "            out += str(i) + ' '\n",
        "\n",
        "    return out"
      ],
      "execution_count": null,
      "outputs": []
    },
    {
      "cell_type": "code",
      "metadata": {
        "colab": {
          "base_uri": "https://localhost:8080/",
          "height": 36
        },
        "id": "4HMCHTwhceay",
        "outputId": "a5cd4c92-50df-45e0-fe3f-5ced4a18e2fe"
      },
      "source": [
        "factorizer(n=int(9))\n",
        "## This method works fine for samll numbers, but for large numbers like 9999999999999999999, there is going to be\n",
        "# a stack overflow.\n",
        "# Here we get the Error: 'List assignment index out of range', because we have 1000 as the limit.\n",
        "# But even if we increase the limit, the operation will take a very very very very long time.\n",
        "# The Sieve of Eratosthenes is not a very time efficient algotithm.\n",
        "# The best approach to improve time complexity is to use 'Quantum'!!"
      ],
      "execution_count": null,
      "outputs": [
        {
          "output_type": "execute_result",
          "data": {
            "application/vnd.google.colaboratory.intrinsic+json": {
              "type": "string"
            },
            "text/plain": [
              "'2 3 5 7 '"
            ]
          },
          "metadata": {
            "tags": []
          },
          "execution_count": 4
        }
      ]
    },
    {
      "cell_type": "markdown",
      "metadata": {
        "id": "E_NUTKAalPgi"
      },
      "source": [
        "## Algorithm 2: Shor's Algorithm\n",
        "[Shor's algorithm](https://quantiki.org/wiki/shors-factoring-algorithm) is a quantum computer algorithm for integer factorization\n"
      ]
    },
    {
      "cell_type": "markdown",
      "metadata": {
        "id": "IBLcVr3gnYyH"
      },
      "source": [
        "1. Pick a random number 1 < a < N\n",
        "2. Compute gcd(a, N), the greatest common divisor of a and N. This may be done using the Euclidean algorithm.\n",
        "3. If gcd(a, N) ≠ 1, then this number is a non-trivial factor of N, so we are done.\n",
        "4. Otherwise, use the **quantum period-finding subroutine** (below) to find r, which denotes the period of the following function:\n",
        "\n",
        "`f(x) = a^x mod N`\n",
        "\n",
        "This is the order r of a in the group (ZN)^×, which is the smallest positive integer r for which\n",
        "    `f(x+r) = f(x)`,\n",
        "     or\n",
        "    `f(x+r) = a^(x+r) mod N ≡ a^x mod N`.\n",
        "By Euler's Theorem, r divides φ(N), where φ denotes Euler's totient function.\n",
        "5. If r is odd, then go back to step 1.\n",
        "6. If a^(r/2) ≡ −1(mod N), then go back to step 1.\n",
        "7. Otherwise, both gcd(a^(r/2) + 1, N) and gcd(a^(r/2) − 1, N)are nontrivial factors of N, so we are done.\n",
        "\n",
        "---\n",
        "\n",
        "For example: Given N = 15 , a = 7, and r = 4, we have gcd(7^2 ± 1, 15) = gcd(49 ± 1, 15), where gcd(48, 15) = 3 and gcd(50, 15) = 5. For N that is a product of two distinct primes, p and q, the value of φ(N) is just `N − p − q + 1`, which for N = 15 is 8, and divides 8."
      ]
    },
    {
      "cell_type": "code",
      "metadata": {
        "id": "bGHS8ytZnJR0"
      },
      "source": [
        "import numpy as np\n",
        "import matplotlib.pyplot as plt"
      ],
      "execution_count": null,
      "outputs": []
    },
    {
      "cell_type": "code",
      "metadata": {
        "id": "qE_JqeNiDnxi"
      },
      "source": [
        "# Hadamard Gate: It's a quantum gate. It uses a specifie type of linear algebra, \"Hilbert Algebra\".\n",
        "## Hadamard Gate is a matrix of values that when applied (i.e. matrix multiplication) to some quantum state vector ('ket'\n",
        "## in quantum mechanics), it's going to turn it into a super-imposed state of numbers.\n",
        "\n",
        "## Super-posistion - is a possibility space of different values across 'timelines'.\n",
        "\n",
        "def Hadamard(n):\n",
        "    \"\"\"\n",
        "    Input: integer 'n'\n",
        "    Output: After applying the hadamard gate, we will get a possibility space of the period for the quantum fourier\n",
        "            transform of what all of the possible values are.\n",
        "    \"\"\"\n",
        "\n",
        "    def Hn(H = np.array([[1, 1], [1, -1]], dtype = np.complex64), n = n):\n",
        "        if n > 1:\n",
        "            return Hn(H = np.kron(np.array([[1, 1], [1, -1]], dtype = np.complex64), H), n = n - 1)\n",
        "        return H\n",
        "    return Hn(n = n)"
      ],
      "execution_count": null,
      "outputs": []
    },
    {
      "cell_type": "code",
      "metadata": {
        "id": "QFnsrhq6H1Qe"
      },
      "source": [
        "# Quantum Fourier Transform (QFT) is a Quantm Circuit\n",
        "def QFT(t):\n",
        "    \"\"\"\n",
        "    Input: 't' is a 'Quantum Input Vector' defined using Numpy.\n",
        "    Output: QFT uses the Hadamard gate to compute the super-position.\n",
        "    \"\"\"\n",
        "\n",
        "    Q = np.zeros(shape = (2 ** t, 2 ** t), dtype = np.complex64)\n",
        "    N = 2 ** t\n",
        "\n",
        "    for i in range(N):\n",
        "        for j in range(N):\n",
        "            Q[i][j] = np.exp(np.pi * 2j * ((i * j) % N) / N)\n",
        "    return Q"
      ],
      "execution_count": null,
      "outputs": []
    },
    {
      "cell_type": "code",
      "metadata": {
        "id": "b3kRFP7qJK0f"
      },
      "source": [
        "## Getting the list of prime numbers.\n",
        "\n",
        "N = 21\n",
        "t = 9\n",
        "H = Hadamard(t)\n",
        "\n",
        "reg1 = np.zeros(shape = (2 ** t), dtype = np.complex64)\n",
        "reg2 = np.zeros(shape = (2 ** t), dtype = np.complex64)\n",
        "\n",
        "reg1[0] = 1\n",
        "reg1 = H.dot(reg1)\n",
        "\n",
        "for i in range(2 ** t):\n",
        "    reg2[i] = 2 ** i % N\n",
        "\n",
        "r = reg2[0]\n",
        "\n",
        "for i in range(2 ** t):\n",
        "    if reg2[i] != r:\n",
        "        reg1[i] = 0\n",
        "\n",
        "Q = QFT(9)\n",
        "reg1 = np.linalg.inv(Q).dot(reg1)"
      ],
      "execution_count": null,
      "outputs": []
    },
    {
      "cell_type": "code",
      "metadata": {
        "colab": {
          "base_uri": "https://localhost:8080/"
        },
        "id": "KPBCqya4Kb1e",
        "outputId": "5ec6c99b-cc8d-4b08-8ba3-dcf3b85797a1"
      },
      "source": [
        "# print(abs(reg1))\n",
        "print(abs(reg1[0]))\n",
        "print(abs(reg1[85]))\n",
        "print(abs(reg1[86]))"
      ],
      "execution_count": null,
      "outputs": [
        {
          "output_type": "stream",
          "text": [
            "0.16796875\n",
            "0.13848211\n",
            "0.06826273\n"
          ],
          "name": "stdout"
        }
      ]
    },
    {
      "cell_type": "code",
      "metadata": {
        "colab": {
          "base_uri": "https://localhost:8080/",
          "height": 268
        },
        "id": "UNrj5UztKrZS",
        "outputId": "af15a8b5-c42f-4767-8587-beddb9520d7c"
      },
      "source": [
        "fig, ax = plt.subplots(nrows = 1, ncols = 1)\n",
        "ax.plot(abs(reg1))\n",
        "fig.savefig('plot.png')"
      ],
      "execution_count": null,
      "outputs": [
        {
          "output_type": "display_data",
          "data": {
            "image/png": "[encoded data removed]",
            "text/plain": [
              "<Figure size 432x288 with 1 Axes>"
            ]
          },
          "metadata": {
            "tags": [],
            "needs_background": "light"
          }
        }
      ]
    },
    {
      "cell_type": "markdown",
      "metadata": {
        "id": "s9qqaJpeM6NX"
      },
      "source": [
        "## Algorithm 3: Quantum Neural Network\n",
        "---\n",
        "QUANTUM CIRCUITS:\n",
        "\n",
        "In quantum information theory, a quantum circuit is a model for quantum computation in which a computation is a sequence of quantum gates, which are reversible transformations on a quantum mechanical analog of an n-bit register. This analogous structure is referred to as an n-qubit register. The graphical depiction of quantum circuit elements is described using a variant of the Penrose graphical notation.\n",
        "\n",
        "---\n",
        "KERNEL METHODS:\n",
        "\n",
        "In machine learning, kernel methods are a class of algorithms for pattern analysis, whose best known member is the support vector machine. The general task of pattern analysis is to find and study general types of relations in datasets."
      ]
    },
    {
      "cell_type": "code",
      "metadata": {
        "id": "-ZCtrBl1NC14"
      },
      "source": [
        "\"\"\"\n",
        "Input: A vector 'f'\n",
        "Processing: f -> Quantum Circuit (QC) -> <f, g>\n",
        "Output: <f, g>\n",
        "\"\"\""
      ],
      "execution_count": null,
      "outputs": []
    },
    {
      "cell_type": "code",
      "metadata": {
        "id": "ZnY3sIfraFMH"
      },
      "source": [
        "!pip install pennylane >> /dev/null"
      ],
      "execution_count": null,
      "outputs": []
    },
    {
      "cell_type": "code",
      "metadata": {
        "id": "cdgRIb4Yab3E"
      },
      "source": [
        "import pennylane as qml\n",
        "from pennylane import numpy as np"
      ],
      "execution_count": null,
      "outputs": []
    },
    {
      "cell_type": "code",
      "metadata": {
        "id": "uOKYqlUzalGc"
      },
      "source": [
        "## Creating a Quantum Machine Learning Device\n",
        "dev1 = qml.device(\"default.qubit\", wires = 1)"
      ],
      "execution_count": null,
      "outputs": []
    },
    {
      "cell_type": "code",
      "metadata": {
        "id": "OM8enUEla1Li"
      },
      "source": [
        "@qml.qnode(dev1)\n",
        "def circuit(params):\n",
        "    qml.RX(params[0], wires = 0)\n",
        "    qml.RY(params[1], wires = 0)\n",
        "    qml.RX(params[0], wires = 0)\n",
        "    qml.RY(params[1], wires = 0)\n",
        "    return qml.expval(qml.PauliZ(0))"
      ],
      "execution_count": null,
      "outputs": []
    },
    {
      "cell_type": "code",
      "metadata": {
        "colab": {
          "base_uri": "https://localhost:8080/"
        },
        "id": "iuLqlBlbbXpN",
        "outputId": "3150a1be-c37b-4afe-f1f7-5143d4ff54b6"
      },
      "source": [
        "print (circuit([0.54, 0.12]))"
      ],
      "execution_count": null,
      "outputs": [
        {
          "output_type": "stream",
          "text": [
            "0.45039465275606094\n"
          ],
          "name": "stdout"
        }
      ]
    },
    {
      "cell_type": "code",
      "metadata": {
        "id": "4RfqWBRZbeVO"
      },
      "source": [
        "def cost(x):\n",
        "    return(circuit(x))"
      ],
      "execution_count": null,
      "outputs": []
    },
    {
      "cell_type": "code",
      "metadata": {
        "colab": {
          "base_uri": "https://localhost:8080/"
        },
        "id": "_XTjoQIjbmXA",
        "outputId": "4c419f42-38bc-48d2-a212-21b6772354da"
      },
      "source": [
        "init_params = np.array([0.011, 0.012])\n",
        "print (cost(init_params))"
      ],
      "execution_count": null,
      "outputs": [
        {
          "output_type": "stream",
          "text": [
            "0.9994700584297429\n"
          ],
          "name": "stdout"
        }
      ]
    },
    {
      "cell_type": "code",
      "metadata": {
        "id": "cABHDXpsbz_1"
      },
      "source": [
        "opt = qml.GradientDescentOptimizer(stepsize = 0.4)\n",
        "\n",
        "# Set number of steps\n",
        "steps = 100\n",
        "\n",
        "# Set the initial parameter values\n",
        "params = init_params"
      ],
      "execution_count": null,
      "outputs": []
    },
    {
      "cell_type": "code",
      "metadata": {
        "colab": {
          "base_uri": "https://localhost:8080/"
        },
        "id": "6nROqBEgcMJc",
        "outputId": "0ea9aef1-00a2-45b2-a574-38aca836f4c2"
      },
      "source": [
        "for i in range(steps):\n",
        "    # Updating the circuit parameters\n",
        "    params = opt.step(cost, params)\n",
        "\n",
        "    if (i + 1) % 5 == 0:\n",
        "        print (\"Cost after steps {:5d}: {: .7f}\".format(i + 1, cost(params)))\n",
        "\n",
        "print (\"Optimized Rotation Angles: {}\".format(params))"
      ],
      "execution_count": null,
      "outputs": [
        {
          "output_type": "stream",
          "text": [
            "Cost after steps     5: -0.6860713\n",
            "Cost after steps    10: -0.7794672\n",
            "Cost after steps    15: -0.9927786\n",
            "Cost after steps    20: -0.9999548\n",
            "Cost after steps    25: -0.9999997\n",
            "Cost after steps    30: -1.0000000\n",
            "Cost after steps    35: -1.0000000\n",
            "Cost after steps    40: -1.0000000\n",
            "Cost after steps    45: -1.0000000\n",
            "Cost after steps    50: -1.0000000\n",
            "Cost after steps    55: -1.0000000\n",
            "Cost after steps    60: -1.0000000\n",
            "Cost after steps    65: -1.0000000\n",
            "Cost after steps    70: -1.0000000\n",
            "Cost after steps    75: -1.0000000\n",
            "Cost after steps    80: -1.0000000\n",
            "Cost after steps    85: -1.0000000\n",
            "Cost after steps    90: -1.0000000\n",
            "Cost after steps    95: -1.0000000\n",
            "Cost after steps   100: -1.0000000\n",
            "Optimized Rotation Angles: [7.47420747e-17 1.57079633e+00]\n"
          ],
          "name": "stdout"
        }
      ]
    }
  ]
}