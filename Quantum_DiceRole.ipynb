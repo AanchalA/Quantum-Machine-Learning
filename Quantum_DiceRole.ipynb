{
  "nbformat": 4,
  "nbformat_minor": 0,
  "metadata": {
    "colab": {
      "provenance": [],
      "authorship_tag": "ABX9TyMxV/YEoBJdEsiSmrOm78SQ",
      "include_colab_link": true
    },
    "kernelspec": {
      "name": "python3",
      "display_name": "Python 3"
    }
  },
  "cells": [
    {
      "cell_type": "markdown",
      "metadata": {
        "id": "view-in-github",
        "colab_type": "text"
      },
      "source": [
        "<a href=\"https://colab.research.google.com/github/AanchalA/Quantum-Machine-Learning/blob/main/Quantum_DiceRole.ipynb\" target=\"_parent\"><img src=\"https://colab.research.google.com/assets/colab-badge.svg\" alt=\"Open In Colab\"/></a>"
      ]
    },
    {
      "cell_type": "markdown",
      "metadata": {
        "id": "nuInrcZTf7co"
      },
      "source": [
        "Refrence Links\n",
        "*   [Build an 8-sided dice that runs on a quantum computer](https://medium.com/rigetti/how-to-write-a-quantum-program-in-10-lines-of-code-for-beginners-540224ac6b45)\n",
        "*   [pyQuil Documentation (Release 2.25.0)](https://buildmedia.readthedocs.org/media/pdf/pyquil/latest/pyquil.pdf)\n",
        "*   [Demystifying Quantum Gates](https://towardsdatascience.com/demystifying-quantum-gates-one-qubit-at-a-time-54404ed80640)"
      ]
    },
    {
      "cell_type": "code",
      "metadata": {
        "id": "ay9SE9iIdc8x"
      },
      "source": [
        "!pip install pyquil >> /dev/null"
      ],
      "execution_count": null,
      "outputs": []
    },
    {
      "cell_type": "code",
      "metadata": {
        "id": "CzZRYqmVdBvs"
      },
      "source": [
        "from pyquil.quil import Program\n",
        "# from pyquil.api import QVMConnection\n",
        "# from pyquil.api import QPUConnection\n",
        "from pyquil.api import WavefunctionSimulator\n",
        "from pyquil.gates import H\n",
        "from functools import reduce"
      ],
      "execution_count": null,
      "outputs": []
    },
    {
      "cell_type": "code",
      "metadata": {
        "id": "DtLrT_6bd44w"
      },
      "source": [
        "# Creating a connection to Quantum Virtual Machine (QVM)\n",
        "# qvm = QVMConnection()\n",
        "# qpu = QPUConnection(\"8Q-Agave\")\n",
        "wfn = WavefunctionSimulator()"
      ],
      "execution_count": null,
      "outputs": []
    },
    {
      "cell_type": "code",
      "metadata": {
        "id": "60Uzc56-eICJ"
      },
      "source": [
        "# Applying the 'Hadamard Gate' to three qbuits to generate 8 possible randomized results\n",
        "dice = Program(H(0), H(1), H(2))"
      ],
      "execution_count": null,
      "outputs": []
    },
    {
      "cell_type": "code",
      "metadata": {
        "id": "RBbKqj9PjiCk"
      },
      "source": [
        "# 8 possible results: [[0,0,0], [0,0,1], [0,1,0], [0,1,1], [1,0,0], [1,0,1], [1,1,0], [1,1,1]]\n",
        "# Measure the qubits to get the results, i.e. 'ROLL THE DICE!'\n",
        "roll_dice = dice.measure_all()"
      ],
      "execution_count": null,
      "outputs": []
    },
    {
      "cell_type": "code",
      "metadata": {
        "id": "mHcn09L5k-6h"
      },
      "source": [
        "# Executing the program by running it with the QVM\n",
        "# result = qvm.run(roll_dice)\n",
        "result = wfn.run_and_measure(roll_dice)"
      ],
      "execution_count": null,
      "outputs": []
    },
    {
      "cell_type": "code",
      "metadata": {
        "id": "fo0kEfNplJcq"
      },
      "source": [
        "# Example Result: [[0,1,0]]\n",
        "# Formatting and printing the result as a dice value between 1 and 8 (Converting Binary Values to Integer)\n",
        "dice_value = resuce(lambda x, y: 2 * x + y, result[0], 0) + 1\n",
        "print(\"The quantum dice roll returned: \", dice_value)"
      ],
      "execution_count": null,
      "outputs": []
    }
  ]
}